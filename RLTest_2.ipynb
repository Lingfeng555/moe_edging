{
 "cells": [
  {
   "cell_type": "code",
   "execution_count": 1,
   "metadata": {},
   "outputs": [
    {
     "name": "stderr",
     "output_type": "stream",
     "text": [
      "/home/lingfeng/Desktop/pytorch/lib/python3.12/site-packages/tqdm/auto.py:21: TqdmWarning: IProgress not found. Please update jupyter and ipywidgets. See https://ipywidgets.readthedocs.io/en/stable/user_install.html\n",
      "  from .autonotebook import tqdm as notebook_tqdm\n"
     ]
    }
   ],
   "source": [
    "import torch\n",
    "import torch.nn as nn\n",
    "import torch.optim as optim\n",
    "import random\n",
    "import numpy as np\n",
    "import torch.nn.functional as F\n",
    "from collections import deque\n",
    "from torchvision import transforms\n",
    "from torch.utils.data import DataLoader, Dataset\n",
    "from PIL import Image\n",
    "import pandas as pd\n",
    "import os\n",
    "import math\n",
    "from sklearn.metrics import davies_bouldin_score\n",
    "import concurrent.futures\n",
    "import matplotlib.pyplot as plt\n",
    "import cv2\n",
    "\n",
    "from RLEnviroment import RL_Agent, NEUEnvironment, Gym\n",
    "from utils.Loader import NEUDataset\n",
    "from utils.Perspectiver import Perspectiver"
   ]
  },
  {
   "cell_type": "code",
   "execution_count": 2,
   "metadata": {},
   "outputs": [],
   "source": [
    "def plot_barchartImage(image):\n",
    "    x = np.arange(image.shape[0])\n",
    "    y = np.arange(image.shape[1])\n",
    "    x, y = np.meshgrid(x, y)\n",
    "\n",
    "    # Flatten arrays for plotting\n",
    "    x = x.flatten()\n",
    "    y = y.flatten()\n",
    "    z = np.zeros_like(x)\n",
    "    dx = dy = np.ones_like(x)\n",
    "    dz = image.flatten()\n",
    "\n",
    "    # Plot the 3D bar chart\n",
    "    fig = plt.figure(figsize=(10, 8))\n",
    "    ax = fig.add_subplot(111, projection='3d')\n",
    "    ax.bar3d(x, y, z, dx, dy, dz, shade=True)\n",
    "\n",
    "    # Add labels and title\n",
    "    ax.set_xlabel('X')\n",
    "    ax.set_ylabel('Y')\n",
    "    ax.set_zlabel('Value')\n",
    "    ax.set_title('3D Bar Chart of (200, 200) Array')\n",
    "\n",
    "    plt.show()"
   ]
  },
  {
   "cell_type": "code",
   "execution_count": null,
   "metadata": {},
   "outputs": [
    {
     "name": "stdout",
     "output_type": "stream",
     "text": [
      "\tAvg guess: tensor([0., 0.]), avg=target: tensor([11.5241, 11.5241], grad_fn=<MeanBackward1>)\n",
      "\tAvg guess: tensor([0., 0.]), avg=target: tensor([11.5270, 11.5270], grad_fn=<MeanBackward1>)\n",
      "Episode 0/200, Total Reward: 9541.959, AVG reward: 11.524104677213035, Epsilon: 0.99003, postive_rate: 0.9963768115942029\n",
      "\tAvg guess: tensor([0., 0.]), avg=target: tensor([11.4178, 11.4178], grad_fn=<MeanBackward1>)\n"
     ]
    }
   ],
   "source": [
    "agent = RL_Agent(gamma=0.99, lr=1e-2, epsilon=1.0, epsilon_decay=0.995, min_epsilon=0.01)\n",
    "dataset = NEUDataset(set=\"train\", scale=0.5)\n",
    "enviroment = NEUEnvironment(dataset, batch_size=int(len(dataset)/2))\n",
    "gym = Gym(agent=agent, enviroment=enviroment)\n",
    "rewards , model = gym.train(num_epochs=200)"
   ]
  },
  {
   "cell_type": "code",
   "execution_count": null,
   "metadata": {},
   "outputs": [],
   "source": [
    "x_values = range(len(rewards))\n",
    "\n",
    "# Plot the line chart\n",
    "plt.figure(figsize=(8, 5))\n",
    "plt.plot(x_values, rewards, marker='o', linestyle='-', color='b', label='Data Points')\n",
    "\n",
    "# Labels and title\n",
    "plt.xlabel('Index')\n",
    "plt.ylabel('Value')\n",
    "plt.title('Line Chart of Given Numbers')\n",
    "plt.legend()\n",
    "plt.grid(True)\n",
    "\n",
    "# Show the plot\n",
    "plt.show()"
   ]
  },
  {
   "cell_type": "code",
   "execution_count": null,
   "metadata": {},
   "outputs": [],
   "source": [
    "image , label = dataset.__getitem__(1)\n",
    "values  = model(image)\n",
    "\n",
    "sp = float(values[0][0].detach().cpu().numpy())\n",
    "sr = float(values[0][1].detach().cpu().numpy())\n",
    "\n",
    "enviroment.calculate_reward(image=image, sp=sp, sr=sr)"
   ]
  },
  {
   "cell_type": "code",
   "execution_count": null,
   "metadata": {},
   "outputs": [],
   "source": [
    "image = Perspectiver.grayscale_to_rgb(Perspectiver.normalize_to_uint8(image.detach().cpu().numpy()[0]))\n",
    "image.shape"
   ]
  },
  {
   "cell_type": "code",
   "execution_count": null,
   "metadata": {},
   "outputs": [],
   "source": [
    "plot_barchartImage(Perspectiver.rgb_to_grayscale(image))"
   ]
  },
  {
   "cell_type": "code",
   "execution_count": null,
   "metadata": {},
   "outputs": [],
   "source": [
    "clustered_image = Perspectiver.meanShift(image, float(sp.detach().cpu().numpy()), float(sr.detach().cpu().numpy()))\n",
    "plot_barchartImage(Perspectiver.rgb_to_grayscale(clustered_image))"
   ]
  }
 ],
 "metadata": {
  "kernelspec": {
   "display_name": "pytorch",
   "language": "python",
   "name": "python3"
  },
  "language_info": {
   "codemirror_mode": {
    "name": "ipython",
    "version": 3
   },
   "file_extension": ".py",
   "mimetype": "text/x-python",
   "name": "python",
   "nbconvert_exporter": "python",
   "pygments_lexer": "ipython3",
   "version": "3.12.3"
  }
 },
 "nbformat": 4,
 "nbformat_minor": 2
}
