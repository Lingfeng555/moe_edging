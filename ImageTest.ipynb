{
 "cells": [
  {
   "cell_type": "code",
   "execution_count": 1,
   "metadata": {},
   "outputs": [
    {
     "name": "stderr",
     "output_type": "stream",
     "text": [
      "/home/lingfeng/Desktop/pytorch/lib/python3.12/site-packages/tqdm/auto.py:21: TqdmWarning: IProgress not found. Please update jupyter and ipywidgets. See https://ipywidgets.readthedocs.io/en/stable/user_install.html\n",
      "  from .autonotebook import tqdm as notebook_tqdm\n"
     ]
    }
   ],
   "source": [
    "import matplotlib.pyplot as plt\n",
    "import cv2\n",
    "import matplotlib.pyplot as plt\n",
    "import numpy as np\n",
    "from sklearn.cluster import KMeans\n",
    "from sklearn.metrics import davies_bouldin_score, calinski_harabasz_score, silhouette_score\n",
    "import optuna\n",
    "from joblib import Parallel, delayed\n",
    "from utils.Loader import NEUDataset\n",
    "from utils.Perspectiver import Perspectiver\n",
    "from torch.utils.data import DataLoader, Dataset\n",
    "from torchvision import datasets, transforms\n",
    "import multiprocessing\n",
    "import torch"
   ]
  },
  {
   "cell_type": "code",
   "execution_count": 2,
   "metadata": {},
   "outputs": [
    {
     "name": "stdout",
     "output_type": "stream",
     "text": [
      "Iteración exitosa.\n",
      "Imagen shape: torch.Size([4, 1, 200, 200])\n",
      "Etiqueta shape: torch.Size([4, 6])\n"
     ]
    }
   ],
   "source": [
    "dataset = NEUDataset(set=\"train\", transform=None, seed=1)\n",
    "\n",
    "# Probar con un DataLoader\n",
    "dataloader = DataLoader(dataset, batch_size=4, shuffle=True)\n",
    "\n",
    "# Intentar iterar sobre el dataloader\n",
    "for images, labels in dataloader:\n",
    "    print(\"Iteración exitosa.\")\n",
    "    print(\"Imagen shape:\", images.shape)\n",
    "    print(\"Etiqueta shape:\", labels.shape)\n",
    "    break "
   ]
  },
  {
   "cell_type": "code",
   "execution_count": 3,
   "metadata": {},
   "outputs": [],
   "source": [
    "image, label = dataset.__getitem__(index=2)\n",
    "original_image = Perspectiver.grayscale_to_rgb(Perspectiver.normalize_to_uint8(image.detach().cpu().numpy()[0]))"
   ]
  },
  {
   "cell_type": "code",
   "execution_count": 4,
   "metadata": {},
   "outputs": [],
   "source": [
    "def optimize_image(image, n_tries: int = 100):\n",
    "    \"\"\"\n",
    "    Optimizes the mean shift parameters to maximize the metric: (Silhouette Score / Number of Clusters).\n",
    "\n",
    "    Args:\n",
    "        image (np.array): The input image with shape (200, 200, 3).\n",
    "        n_tries (int): The number of optimization trials to run.\n",
    "\n",
    "    Returns:\n",
    "        dict: The best parameters and the best score.\n",
    "    \"\"\"\n",
    "\n",
    "    # Define the objective function for Optuna\n",
    "    def objective(trial):\n",
    "        # Suggest parameters for spatial radius and color radius\n",
    "        sp = trial.suggest_float(\"sp\", 5.0, 50.0)  # Spatial window radius\n",
    "        sr = trial.suggest_float(\"sr\", 5.0, 50.0)  # Color window radius\n",
    "\n",
    "        # Apply mean shift filtering\n",
    "        after = Perspectiver.meanShift(image, sp, sr)\n",
    "\n",
    "        # Evaluate clustering\n",
    "        scores = Perspectiver.evaluate_clustering(image, after)\n",
    "        silhouette_score = scores[\"Calinski-Harabasz Index\"]\n",
    "        n_clusters = len(np.unique(after))\n",
    "\n",
    "        # Avoid division by zero (in case of degenerate clustering)\n",
    "        if n_clusters == 0:\n",
    "            return float(\"-inf\")\n",
    "\n",
    "        # Metric to maximize: Silhouette Score per cluster\n",
    "        metric_to_maximize = silhouette_score / n_clusters\n",
    "        return metric_to_maximize\n",
    "\n",
    "    # Determine the number of CPU threads\n",
    "    n_jobs = multiprocessing.cpu_count()\n",
    "    print(f\"Using {n_jobs} CPU threads for parallel optimization.\")\n",
    "\n",
    "    # Run the optimization with parallel trials\n",
    "    study = optuna.create_study(direction=\"maximize\")\n",
    "    study.optimize(objective, n_trials=n_tries, n_jobs=n_jobs)\n",
    "\n",
    "    # Return the best parameters and the best score\n",
    "    return {\n",
    "        \"best_params\": study.best_params,\n",
    "        \"best_score\": study.best_value\n",
    "    }\n"
   ]
  },
  {
   "cell_type": "code",
   "execution_count": 5,
   "metadata": {},
   "outputs": [
    {
     "name": "stderr",
     "output_type": "stream",
     "text": [
      "[I 2025-01-28 14:05:38,321] A new study created in memory with name: no-name-0c907e8b-eb53-4b31-88f4-e3b856fb38db\n"
     ]
    },
    {
     "name": "stdout",
     "output_type": "stream",
     "text": [
      "Using 8 CPU threads for parallel optimization.\n"
     ]
    },
    {
     "name": "stderr",
     "output_type": "stream",
     "text": [
      "[I 2025-01-28 14:07:06,121] Trial 1 finished with value: 5.7683091001021625 and parameters: {'sp': 5.1621705859518014, 'sr': 38.68110670298585}. Best is trial 1 with value: 5.7683091001021625.\n",
      "[I 2025-01-28 14:07:06,415] Trial 5 finished with value: 9.996372396766976 and parameters: {'sp': 47.86607782388755, 'sr': 49.91535596233613}. Best is trial 5 with value: 9.996372396766976.\n",
      "[I 2025-01-28 14:07:06,955] Trial 4 finished with value: 6.883759389565641 and parameters: {'sp': 24.189374253945452, 'sr': 33.60874269103133}. Best is trial 5 with value: 9.996372396766976.\n",
      "[I 2025-01-28 14:07:07,771] Trial 7 finished with value: 20.63502800793958 and parameters: {'sp': 13.832401608720112, 'sr': 17.402148929492114}. Best is trial 7 with value: 20.63502800793958.\n",
      "[I 2025-01-28 14:07:08,096] Trial 0 finished with value: 66.37493160422407 and parameters: {'sp': 18.332693949169276, 'sr': 12.545853913960176}. Best is trial 0 with value: 66.37493160422407.\n",
      "[I 2025-01-28 14:07:08,267] Trial 3 finished with value: 141.63212849650915 and parameters: {'sp': 21.449298869227153, 'sr': 7.051724949313092}. Best is trial 3 with value: 141.63212849650915.\n",
      "[I 2025-01-28 14:07:09,749] Trial 6 finished with value: 118.34885335362586 and parameters: {'sp': 31.57599593444329, 'sr': 10.7215475887856}. Best is trial 3 with value: 141.63212849650915.\n",
      "[I 2025-01-28 14:07:09,779] Trial 2 finished with value: 7.7465975698524785 and parameters: {'sp': 41.83838150975946, 'sr': 36.38581790810177}. Best is trial 3 with value: 141.63212849650915.\n",
      "[I 2025-01-28 14:08:32,577] Trial 11 finished with value: 6.005953100497782 and parameters: {'sp': 29.93941169364229, 'sr': 41.982685113850735}. Best is trial 3 with value: 141.63212849650915.\n",
      "[I 2025-01-28 14:08:33,794] Trial 9 finished with value: 6.684237681854659 and parameters: {'sp': 10.40244320144594, 'sr': 31.433214259746865}. Best is trial 3 with value: 141.63212849650915.\n",
      "[I 2025-01-28 14:08:33,801] Trial 10 finished with value: 9.199815565833473 and parameters: {'sp': 12.976860267270737, 'sr': 24.87136742123041}. Best is trial 3 with value: 141.63212849650915.\n",
      "[I 2025-01-28 14:08:34,510] Trial 8 finished with value: 11.148718572512221 and parameters: {'sp': 42.82866928738395, 'sr': 26.146359068475917}. Best is trial 3 with value: 141.63212849650915.\n",
      "[I 2025-01-28 14:08:34,535] Trial 13 finished with value: 6.348965792432132 and parameters: {'sp': 18.329500117678137, 'sr': 35.64277183343412}. Best is trial 3 with value: 141.63212849650915.\n",
      "[I 2025-01-28 14:08:35,000] Trial 14 finished with value: 9.095722457096796 and parameters: {'sp': 34.251029881202264, 'sr': 29.804704633703825}. Best is trial 3 with value: 141.63212849650915.\n",
      "[I 2025-01-28 14:08:35,051] Trial 15 finished with value: 10.219889858831635 and parameters: {'sp': 13.024883562371556, 'sr': 23.10536604851341}. Best is trial 3 with value: 141.63212849650915.\n",
      "[I 2025-01-28 14:08:35,213] Trial 12 finished with value: 21.943590234031785 and parameters: {'sp': 33.64418712164892, 'sr': 19.31307321652406}. Best is trial 3 with value: 141.63212849650915.\n",
      "[I 2025-01-28 14:09:58,904] Trial 18 finished with value: 154.64337478140268 and parameters: {'sp': 32.19896639380408, 'sr': 6.874757488730856}. Best is trial 18 with value: 154.64337478140268.\n",
      "[I 2025-01-28 14:10:01,538] Trial 23 finished with value: 148.34152135539676 and parameters: {'sp': 24.65155284828216, 'sr': 5.687729485534312}. Best is trial 18 with value: 154.64337478140268.\n",
      "[I 2025-01-28 14:10:02,018] Trial 16 finished with value: 13.012935381318902 and parameters: {'sp': 49.90439873134206, 'sr': 25.781940338589134}. Best is trial 18 with value: 154.64337478140268.\n",
      "[I 2025-01-28 14:10:02,752] Trial 22 finished with value: 148.41148145336933 and parameters: {'sp': 27.271536688086524, 'sr': 5.297346071170804}. Best is trial 18 with value: 154.64337478140268.\n",
      "[I 2025-01-28 14:10:03,154] Trial 19 finished with value: 136.17019571498142 and parameters: {'sp': 33.428076007238275, 'sr': 9.312206718071494}. Best is trial 18 with value: 154.64337478140268.\n",
      "[I 2025-01-28 14:10:03,175] Trial 20 finished with value: 150.9796594301661 and parameters: {'sp': 31.43880981307208, 'sr': 5.3506655442114806}. Best is trial 18 with value: 154.64337478140268.\n",
      "[I 2025-01-28 14:10:03,607] Trial 21 finished with value: 153.56949478586554 and parameters: {'sp': 33.72185530811416, 'sr': 5.926292945815408}. Best is trial 18 with value: 154.64337478140268.\n",
      "[I 2025-01-28 14:10:03,816] Trial 17 finished with value: 16.69448630512064 and parameters: {'sp': 36.049955009010574, 'sr': 20.823182763847207}. Best is trial 18 with value: 154.64337478140268.\n",
      "[I 2025-01-28 14:11:19,183] Trial 24 finished with value: 145.12792830264996 and parameters: {'sp': 23.296723858183093, 'sr': 6.471973917196388}. Best is trial 18 with value: 154.64337478140268.\n",
      "[I 2025-01-28 14:11:22,131] Trial 26 finished with value: 148.9515675423759 and parameters: {'sp': 26.553232662347085, 'sr': 5.492928784750907}. Best is trial 18 with value: 154.64337478140268.\n",
      "[I 2025-01-28 14:11:27,048] Trial 28 finished with value: 148.79233862977117 and parameters: {'sp': 26.11702942880417, 'sr': 5.155167618302858}. Best is trial 18 with value: 154.64337478140268.\n",
      "[I 2025-01-28 14:11:28,069] Trial 25 finished with value: 156.70497690586083 and parameters: {'sp': 38.17393022696026, 'sr': 5.509754445301222}. Best is trial 25 with value: 156.70497690586083.\n",
      "[I 2025-01-28 14:11:28,937] Trial 30 finished with value: 59.182442683507404 and parameters: {'sp': 38.28816197985359, 'sr': 14.83421286604994}. Best is trial 25 with value: 156.70497690586083.\n",
      "[I 2025-01-28 14:11:29,059] Trial 27 finished with value: 94.40159453090652 and parameters: {'sp': 36.80849266047018, 'sr': 13.552228679365832}. Best is trial 25 with value: 156.70497690586083.\n",
      "[I 2025-01-28 14:11:29,884] Trial 29 finished with value: 60.48552160423921 and parameters: {'sp': 38.51770053848364, 'sr': 14.112483937258054}. Best is trial 25 with value: 156.70497690586083.\n",
      "[I 2025-01-28 14:11:29,920] Trial 31 finished with value: 61.46421184087964 and parameters: {'sp': 39.21381989539798, 'sr': 14.806355639403549}. Best is trial 25 with value: 156.70497690586083.\n",
      "[I 2025-01-28 14:12:39,530] Trial 32 finished with value: 61.46421184087964 and parameters: {'sp': 39.45138208366341, 'sr': 14.660950577266064}. Best is trial 25 with value: 156.70497690586083.\n",
      "[I 2025-01-28 14:12:41,192] Trial 33 finished with value: 60.48552160423921 and parameters: {'sp': 38.75668443200108, 'sr': 14.108520308690492}. Best is trial 25 with value: 156.70497690586083.\n",
      "[I 2025-01-28 14:12:51,974] Trial 34 finished with value: 59.182442683507404 and parameters: {'sp': 38.27738270266152, 'sr': 14.628875061136307}. Best is trial 25 with value: 156.70497690586083.\n",
      "[I 2025-01-28 14:12:53,766] Trial 35 finished with value: 99.30980908307703 and parameters: {'sp': 39.16832343575881, 'sr': 13.299334788753399}. Best is trial 25 with value: 156.70497690586083.\n",
      "[I 2025-01-28 14:12:53,880] Trial 38 finished with value: 113.52970161684637 and parameters: {'sp': 30.33895183368047, 'sr': 10.59576242100027}. Best is trial 25 with value: 156.70497690586083.\n",
      "[I 2025-01-28 14:12:55,453] Trial 39 finished with value: 131.16317185708743 and parameters: {'sp': 29.19475730822517, 'sr': 10.19727812159732}. Best is trial 25 with value: 156.70497690586083.\n",
      "[I 2025-01-28 14:12:55,590] Trial 37 finished with value: 143.56110029022884 and parameters: {'sp': 41.64397847189968, 'sr': 10.891679366760565}. Best is trial 25 with value: 156.70497690586083.\n",
      "[I 2025-01-28 14:12:56,011] Trial 36 finished with value: 61.46421184087964 and parameters: {'sp': 39.325215065165764, 'sr': 14.392995733444785}. Best is trial 25 with value: 156.70497690586083.\n",
      "[I 2025-01-28 14:13:59,708] Trial 40 finished with value: 137.84048469920444 and parameters: {'sp': 30.634750916580877, 'sr': 9.519297622533934}. Best is trial 25 with value: 156.70497690586083.\n",
      "[I 2025-01-28 14:14:02,305] Trial 41 finished with value: 118.3247225139881 and parameters: {'sp': 30.685539446277975, 'sr': 11.526345207212586}. Best is trial 25 with value: 156.70497690586083.\n",
      "[I 2025-01-28 14:14:11,282] Trial 42 finished with value: 131.97935069395433 and parameters: {'sp': 29.89143030840728, 'sr': 9.413599140763859}. Best is trial 25 with value: 156.70497690586083.\n",
      "[I 2025-01-28 14:14:13,731] Trial 43 finished with value: 131.97935069395433 and parameters: {'sp': 29.907038740984778, 'sr': 9.663580347679542}. Best is trial 25 with value: 156.70497690586083.\n",
      "[I 2025-01-28 14:14:18,173] Trial 44 finished with value: 143.2946566707926 and parameters: {'sp': 42.54348818076846, 'sr': 8.70851687995882}. Best is trial 25 with value: 156.70497690586083.\n",
      "[I 2025-01-28 14:14:20,212] Trial 45 finished with value: 167.2981642751571 and parameters: {'sp': 44.04810091714509, 'sr': 8.440102439608316}. Best is trial 45 with value: 167.2981642751571.\n",
      "[I 2025-01-28 14:14:21,574] Trial 47 finished with value: 169.2296975094841 and parameters: {'sp': 44.877760861887744, 'sr': 8.303416166747478}. Best is trial 47 with value: 169.2296975094841.\n",
      "[I 2025-01-28 14:14:21,694] Trial 46 finished with value: 149.52064359061092 and parameters: {'sp': 44.54837471519551, 'sr': 9.242384916691318}. Best is trial 47 with value: 169.2296975094841.\n",
      "[I 2025-01-28 14:15:22,094] Trial 48 finished with value: 167.2981642751571 and parameters: {'sp': 44.03097004094441, 'sr': 7.46535529326189}. Best is trial 47 with value: 169.2296975094841.\n",
      "[I 2025-01-28 14:15:27,134] Trial 49 finished with value: 167.2981642751571 and parameters: {'sp': 44.17840952359272, 'sr': 8.124048854166219}. Best is trial 47 with value: 169.2296975094841.\n",
      "[I 2025-01-28 14:15:35,417] Trial 50 finished with value: 169.2296975094841 and parameters: {'sp': 44.62599886143808, 'sr': 7.3043066596309725}. Best is trial 47 with value: 169.2296975094841.\n",
      "[I 2025-01-28 14:15:36,950] Trial 51 finished with value: 167.2981642751571 and parameters: {'sp': 44.16573543075076, 'sr': 7.055616609452417}. Best is trial 47 with value: 169.2296975094841.\n",
      "[I 2025-01-28 14:15:39,010] Trial 52 finished with value: 143.21913169658612 and parameters: {'sp': 20.670454829823896, 'sr': 7.518259052437001}. Best is trial 47 with value: 169.2296975094841.\n",
      "[I 2025-01-28 14:15:45,610] Trial 53 finished with value: 168.11451653384185 and parameters: {'sp': 45.48654679934031, 'sr': 7.935077678493059}. Best is trial 47 with value: 169.2296975094841.\n",
      "[I 2025-01-28 14:15:47,819] Trial 54 finished with value: 172.50155236575858 and parameters: {'sp': 45.518733903330514, 'sr': 8.219627266926096}. Best is trial 54 with value: 172.50155236575858.\n",
      "[I 2025-01-28 14:15:49,009] Trial 55 finished with value: 37.99623675410304 and parameters: {'sp': 46.278016561578525, 'sr': 17.99695070257713}. Best is trial 54 with value: 172.50155236575858.\n",
      "[I 2025-01-28 14:16:38,115] Trial 56 finished with value: 7.0435646078518825 and parameters: {'sp': 45.85086660968585, 'sr': 42.08473302603844}. Best is trial 54 with value: 172.50155236575858.\n",
      "[I 2025-01-28 14:16:50,890] Trial 57 finished with value: 37.99623675410304 and parameters: {'sp': 46.16744290790531, 'sr': 17.600371965017054}. Best is trial 54 with value: 172.50155236575858.\n",
      "[I 2025-01-28 14:16:58,537] Trial 60 finished with value: 7.680312671599649 and parameters: {'sp': 46.04909648391259, 'sr': 44.190109661644875}. Best is trial 54 with value: 172.50155236575858.\n",
      "[I 2025-01-28 14:17:00,031] Trial 58 finished with value: 38.12214226304438 and parameters: {'sp': 46.7070884281869, 'sr': 18.16355175022845}. Best is trial 54 with value: 172.50155236575858.\n",
      "[I 2025-01-28 14:17:00,698] Trial 59 finished with value: 172.50155236575858 and parameters: {'sp': 45.92110336182535, 'sr': 7.844739771653768}. Best is trial 54 with value: 172.50155236575858.\n",
      "[I 2025-01-28 14:17:10,261] Trial 61 finished with value: 53.17212457588541 and parameters: {'sp': 47.92706889640831, 'sr': 16.75835172882085}. Best is trial 54 with value: 172.50155236575858.\n",
      "[I 2025-01-28 14:17:11,851] Trial 62 finished with value: 38.544075662441365 and parameters: {'sp': 47.44762026819052, 'sr': 17.641108971719607}. Best is trial 54 with value: 172.50155236575858.\n",
      "[I 2025-01-28 14:17:14,010] Trial 63 finished with value: 137.25688425451264 and parameters: {'sp': 49.182459217209946, 'sr': 11.735769339360143}. Best is trial 54 with value: 172.50155236575858.\n",
      "[I 2025-01-28 14:18:03,216] Trial 64 finished with value: 55.30108387215406 and parameters: {'sp': 49.873371628179484, 'sr': 16.82235238565582}. Best is trial 54 with value: 172.50155236575858.\n",
      "[I 2025-01-28 14:18:15,594] Trial 65 finished with value: 106.57326537653958 and parameters: {'sp': 49.9506095291983, 'sr': 12.606065610479991}. Best is trial 54 with value: 172.50155236575858.\n",
      "[I 2025-01-28 14:18:24,846] Trial 66 finished with value: 22.81774426379514 and parameters: {'sp': 49.04941719739979, 'sr': 21.416153994662984}. Best is trial 54 with value: 172.50155236575858.\n",
      "[I 2025-01-28 14:18:29,770] Trial 68 finished with value: 137.3686035121258 and parameters: {'sp': 49.65079944475372, 'sr': 11.412568653448325}. Best is trial 54 with value: 172.50155236575858.\n",
      "[I 2025-01-28 14:18:30,014] Trial 67 finished with value: 106.57326537653958 and parameters: {'sp': 49.98803048382168, 'sr': 12.166893337250105}. Best is trial 54 with value: 172.50155236575858.\n",
      "[I 2025-01-28 14:18:38,326] Trial 69 finished with value: 123.862378018871 and parameters: {'sp': 49.95151270016717, 'sr': 12.11380963367901}. Best is trial 54 with value: 172.50155236575858.\n",
      "[I 2025-01-28 14:18:39,025] Trial 70 finished with value: 123.862378018871 and parameters: {'sp': 49.66737779851928, 'sr': 12.133388342273882}. Best is trial 54 with value: 172.50155236575858.\n",
      "[I 2025-01-28 14:18:40,608] Trial 71 finished with value: 100.16410680587587 and parameters: {'sp': 40.889882029817734, 'sr': 12.568601414551903}. Best is trial 54 with value: 172.50155236575858.\n",
      "[I 2025-01-28 14:19:30,925] Trial 72 finished with value: 98.89807577831452 and parameters: {'sp': 41.28593436216643, 'sr': 12.247379956391804}. Best is trial 54 with value: 172.50155236575858.\n",
      "[I 2025-01-28 14:19:41,129] Trial 73 finished with value: 163.44391636424203 and parameters: {'sp': 40.673649986416024, 'sr': 7.7157475680784104}. Best is trial 54 with value: 172.50155236575858.\n",
      "[I 2025-01-28 14:19:51,990] Trial 74 finished with value: 166.2657155572428 and parameters: {'sp': 41.76859670370956, 'sr': 7.496919162674447}. Best is trial 54 with value: 172.50155236575858.\n",
      "[I 2025-01-28 14:19:56,071] Trial 76 finished with value: 166.2657155572428 and parameters: {'sp': 41.64525934791501, 'sr': 7.6136740371310365}. Best is trial 54 with value: 172.50155236575858.\n",
      "[I 2025-01-28 14:19:56,703] Trial 75 finished with value: 166.2657155572428 and parameters: {'sp': 42.339901661692124, 'sr': 7.6873534769711025}. Best is trial 54 with value: 172.50155236575858.\n",
      "[I 2025-01-28 14:20:02,634] Trial 77 finished with value: 155.75713636358287 and parameters: {'sp': 40.73527668132623, 'sr': 6.707145514838198}. Best is trial 54 with value: 172.50155236575858.\n",
      "[I 2025-01-28 14:20:05,401] Trial 78 finished with value: 162.53873461839513 and parameters: {'sp': 41.32536697853251, 'sr': 7.917850703753103}. Best is trial 54 with value: 172.50155236575858.\n",
      "[I 2025-01-28 14:20:06,308] Trial 79 finished with value: 167.2981642751571 and parameters: {'sp': 44.15198445176655, 'sr': 8.086958649258069}. Best is trial 54 with value: 172.50155236575858.\n",
      "[I 2025-01-28 14:20:57,863] Trial 80 finished with value: 167.2981642751571 and parameters: {'sp': 43.670192540248934, 'sr': 7.891825617438932}. Best is trial 54 with value: 172.50155236575858.\n",
      "[I 2025-01-28 14:21:06,493] Trial 81 finished with value: 156.59900023464058 and parameters: {'sp': 43.87202569494141, 'sr': 8.64781288058354}. Best is trial 54 with value: 172.50155236575858.\n",
      "[I 2025-01-28 14:21:18,048] Trial 82 finished with value: 167.2981642751571 and parameters: {'sp': 44.03760813240764, 'sr': 8.10976578090542}. Best is trial 54 with value: 172.50155236575858.\n",
      "[I 2025-01-28 14:21:23,316] Trial 83 finished with value: 167.2981642751571 and parameters: {'sp': 44.250496123171786, 'sr': 8.168878052570408}. Best is trial 54 with value: 172.50155236575858.\n",
      "[I 2025-01-28 14:21:25,399] Trial 84 finished with value: 160.79144941868668 and parameters: {'sp': 44.04412659587104, 'sr': 6.483391853769118}. Best is trial 54 with value: 172.50155236575858.\n",
      "[I 2025-01-28 14:21:26,960] Trial 85 finished with value: 167.2981642751571 and parameters: {'sp': 44.0855632755207, 'sr': 8.603752727290571}. Best is trial 54 with value: 172.50155236575858.\n",
      "[I 2025-01-28 14:21:30,722] Trial 87 finished with value: 205.38680296140615 and parameters: {'sp': 43.564304076717384, 'sr': 5.024031659457451}. Best is trial 87 with value: 205.38680296140615.\n",
      "[I 2025-01-28 14:21:31,463] Trial 86 finished with value: 8.634255009727395 and parameters: {'sp': 42.98518932228264, 'sr': 33.86577953354617}. Best is trial 87 with value: 205.38680296140615.\n",
      "[I 2025-01-28 14:22:20,035] Trial 88 finished with value: 205.4640538292614 and parameters: {'sp': 44.932586235494384, 'sr': 5.010407483180379}. Best is trial 88 with value: 205.4640538292614.\n",
      "[I 2025-01-28 14:22:27,120] Trial 89 finished with value: 163.11563756336145 and parameters: {'sp': 44.92280059512981, 'sr': 6.362768772566865}. Best is trial 88 with value: 205.4640538292614.\n",
      "[I 2025-01-28 14:22:37,200] Trial 90 finished with value: 11.245121632987567 and parameters: {'sp': 45.01508162172407, 'sr': 28.982537318577588}. Best is trial 88 with value: 205.4640538292614.\n",
      "[I 2025-01-28 14:22:46,428] Trial 91 finished with value: 143.07856962558074 and parameters: {'sp': 45.256985744052244, 'sr': 10.456759533436315}. Best is trial 88 with value: 205.4640538292614.\n",
      "[I 2025-01-28 14:22:53,179] Trial 92 finished with value: 150.2788446358209 and parameters: {'sp': 45.395526552527485, 'sr': 10.024915448504942}. Best is trial 88 with value: 205.4640538292614.\n",
      "[I 2025-01-28 14:22:53,773] Trial 93 finished with value: 150.2788446358209 and parameters: {'sp': 45.37304454764685, 'sr': 10.30088152344274}. Best is trial 88 with value: 205.4640538292614.\n",
      "[I 2025-01-28 14:22:53,952] Trial 95 finished with value: 11.741812024803863 and parameters: {'sp': 45.25853866587418, 'sr': 27.509753203408035}. Best is trial 88 with value: 205.4640538292614.\n",
      "[I 2025-01-28 14:22:54,282] Trial 94 finished with value: 153.561512893296 and parameters: {'sp': 47.985403083229656, 'sr': 10.037359478369126}. Best is trial 88 with value: 205.4640538292614.\n",
      "[I 2025-01-28 14:23:20,600] Trial 96 finished with value: 141.34248002393207 and parameters: {'sp': 47.748826177977726, 'sr': 10.511739108914933}. Best is trial 88 with value: 205.4640538292614.\n",
      "[I 2025-01-28 14:23:23,416] Trial 97 finished with value: 204.50182501349906 and parameters: {'sp': 47.99562686195673, 'sr': 5.013851009740721}. Best is trial 88 with value: 205.4640538292614.\n",
      "[I 2025-01-28 14:23:25,090] Trial 98 finished with value: 204.50182501349906 and parameters: {'sp': 48.042238729208805, 'sr': 5.078094156575197}. Best is trial 88 with value: 205.4640538292614.\n",
      "[I 2025-01-28 14:23:26,609] Trial 99 finished with value: 169.36224888705118 and parameters: {'sp': 47.46966423567894, 'sr': 5.638872010220245}. Best is trial 88 with value: 205.4640538292614.\n"
     ]
    },
    {
     "data": {
      "text/plain": [
       "{'best_params': {'sp': 44.932586235494384, 'sr': 5.010407483180379},\n",
       " 'best_score': 205.4640538292614}"
      ]
     },
     "execution_count": 5,
     "metadata": {},
     "output_type": "execute_result"
    }
   ],
   "source": [
    "optimize_image(original_image)\n"
   ]
  },
  {
   "cell_type": "code",
   "execution_count": null,
   "metadata": {},
   "outputs": [],
   "source": [
    "Perspectiver.plotComparison(original_image, Perspectiver.dbscanClustering(Perspectiver.meanShift(original_image,44.932586235494384, 5.010407483180379), 100, 100))"
   ]
  }
 ],
 "metadata": {
  "kernelspec": {
   "display_name": "pytorch",
   "language": "python",
   "name": "python3"
  },
  "language_info": {
   "codemirror_mode": {
    "name": "ipython",
    "version": 3
   },
   "file_extension": ".py",
   "mimetype": "text/x-python",
   "name": "python",
   "nbconvert_exporter": "python",
   "pygments_lexer": "ipython3",
   "version": "3.12.3"
  }
 },
 "nbformat": 4,
 "nbformat_minor": 2
}
