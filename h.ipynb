{
 "cells": [
  {
   "cell_type": "markdown",
   "metadata": {},
   "source": [
    "# Import"
   ]
  },
  {
   "cell_type": "code",
   "execution_count": 1,
   "metadata": {},
   "outputs": [
    {
     "name": "stderr",
     "output_type": "stream",
     "text": [
      "/home/lingfeng/Desktop/pytorch/lib/python3.12/site-packages/tqdm/auto.py:21: TqdmWarning: IProgress not found. Please update jupyter and ipywidgets. See https://ipywidgets.readthedocs.io/en/stable/user_install.html\n",
      "  from .autonotebook import tqdm as notebook_tqdm\n"
     ]
    }
   ],
   "source": [
    "import matplotlib.pyplot as plt\n",
    "import cv2\n",
    "import pandas as pd\n",
    "import matplotlib.pyplot as plt\n",
    "import numpy as np\n",
    "from sklearn.cluster import KMeans\n",
    "from sklearn.metrics import davies_bouldin_score, calinski_harabasz_score, silhouette_score\n",
    "import optuna\n",
    "from joblib import Parallel, delayed\n",
    "from utils.Loader import NEUDataset\n",
    "from utils.Perspectiver import Perspectiver\n",
    "from source.Prototype1 import Prototype1\n",
    "\n",
    "from torch.utils.data import DataLoader, Dataset\n",
    "from torchvision import datasets, transforms\n",
    "import torch.nn as nn\n",
    "import torch.nn.functional as F\n",
    "from torch.optim import Adam\n",
    "\n",
    "import multiprocessing\n",
    "import torch\n",
    "from mpl_toolkits.mplot3d import Axes3D\n",
    "from skimage.restoration import denoise_wavelet\n",
    "import random\n",
    "import math\n",
    "from PIL import Image\n",
    "from collections import deque\n",
    "import numpy as np\n",
    "from scipy.ndimage import maximum_filter, minimum_filter, label, generate_binary_structure\n",
    "from concurrent.futures import ProcessPoolExecutor, as_completed\n",
    "from scipy.ndimage import label as ndi_label, binary_dilation"
   ]
  },
  {
   "cell_type": "code",
   "execution_count": 2,
   "metadata": {},
   "outputs": [],
   "source": [
    "device = torch.device(\"cuda\" if torch.cuda.is_available() else \"cpu\")"
   ]
  },
  {
   "cell_type": "markdown",
   "metadata": {},
   "source": [
    "# Init Variables"
   ]
  },
  {
   "cell_type": "code",
   "execution_count": 3,
   "metadata": {},
   "outputs": [
    {
     "name": "stdout",
     "output_type": "stream",
     "text": [
      "Using cuda cores\n",
      "Dataset: train created!\n"
     ]
    }
   ],
   "source": [
    "model = Prototype1(num_attention_heads=16).to(\"cuda\")\n",
    "if torch.cuda.is_available():\n",
    "    print(\"Using cuda cores\")\n",
    "    model.cuda()\n",
    "\n",
    "dataset = NEUDataset(set=\"train\", seed=555, scale=0.5, best_param=True, output_path=\"outputs_k10\")"
   ]
  },
  {
   "cell_type": "markdown",
   "metadata": {},
   "source": [
    "# Hyper parameters"
   ]
  },
  {
   "cell_type": "code",
   "execution_count": 4,
   "metadata": {},
   "outputs": [],
   "source": [
    "LEARNING_RATE = 0.0005\n",
    "EPOCH = 1000\n",
    "BATCH_SIZE = len(dataset)//2\n",
    "THREADS = 8"
   ]
  },
  {
   "cell_type": "markdown",
   "metadata": {},
   "source": [
    "# Training process\n",
    "Best loss: '2532'"
   ]
  },
  {
   "cell_type": "code",
   "execution_count": 5,
   "metadata": {},
   "outputs": [],
   "source": [
    "criterion = nn.MSELoss(reduction=\"sum\")\n",
    "optimizer = Adam(model.parameters(), lr=LEARNING_RATE)\n",
    "dataloader = DataLoader(dataset=dataset, batch_size=BATCH_SIZE, shuffle=True, num_workers=THREADS)"
   ]
  },
  {
   "cell_type": "code",
   "execution_count": null,
   "metadata": {},
   "outputs": [],
   "source": [
    "def train(model):\n",
    "    loss_record = []\n",
    "    for epoch in range(EPOCH):\n",
    "        model.train()\n",
    "        total_loss = 0\n",
    "        num_batches = 0\n",
    "\n",
    "        # Desempaquetar ignorando 'labels'\n",
    "        for images, _, best_parameters in dataloader:\n",
    "            images = images.to('cuda')\n",
    "            best_parameters = best_parameters.to('cuda')\n",
    "\n",
    "            # Forward: el modelo predice sp y sr\n",
    "            pred_reg = model(images)  # salida de regresión\n",
    "\n",
    "            # Calcular la pérdida de regresión\n",
    "            loss = criterion(pred_reg, best_parameters)\n",
    "            total_loss += loss.item()\n",
    "\n",
    "            optimizer.zero_grad()\n",
    "            loss.backward()\n",
    "            optimizer.step()\n",
    "\n",
    "            num_batches += 1\n",
    "\n",
    "        avg_loss = total_loss / num_batches\n",
    "        loss_record.append(avg_loss)\n",
    "        print(f\"Epoch [{epoch + 1}/{EPOCH}], Loss: {avg_loss:.4f}\")\n",
    "    return loss_record, model\n",
    "\n",
    "loss, model = train(model)"
   ]
  },
  {
   "cell_type": "code",
   "execution_count": null,
   "metadata": {},
   "outputs": [],
   "source": [
    "total_parametros = sum(p.numel() for p in model.parameters())\n",
    "print(f\"Model parameters: {total_parametros}\")"
   ]
  },
  {
   "cell_type": "code",
   "execution_count": null,
   "metadata": {},
   "outputs": [],
   "source": [
    "plt.plot(loss)           \n",
    "plt.title(\"Line Chart\")  \n",
    "plt.xlabel(\"epoch\")     \n",
    "plt.ylabel(\"loss\")      \n",
    "plt.show()               "
   ]
  },
  {
   "cell_type": "code",
   "execution_count": null,
   "metadata": {},
   "outputs": [],
   "source": [
    "#Guardar solo la red neuronal en un archivo .pth\n",
    "torch.save(model.state_dict(), \"h2.pth\")\n",
    "print(\"Modelo guardado exitosamente en h2.pth\")"
   ]
  },
  {
   "cell_type": "code",
   "execution_count": 4,
   "metadata": {},
   "outputs": [
    {
     "name": "stderr",
     "output_type": "stream",
     "text": [
      "/tmp/ipykernel_545097/641707365.py:2: FutureWarning: You are using `torch.load` with `weights_only=False` (the current default value), which uses the default pickle module implicitly. It is possible to construct malicious pickle data which will execute arbitrary code during unpickling (See https://github.com/pytorch/pytorch/blob/main/SECURITY.md#untrusted-models for more details). In a future release, the default value for `weights_only` will be flipped to `True`. This limits the functions that could be executed during unpickling. Arbitrary objects will no longer be allowed to be loaded via this mode unless they are explicitly allowlisted by the user via `torch.serialization.add_safe_globals`. We recommend you start setting `weights_only=True` for any use case where you don't have full control of the loaded file. Please open an issue on GitHub for any issues related to this experimental feature.\n",
      "  loaded_model.load_state_dict(torch.load(\"h2.pth\", map_location=torch.device('cpu')))\n"
     ]
    },
    {
     "data": {
      "text/plain": [
       "Prototype1(\n",
       "  (cnn_block): CNNBlock(\n",
       "    (conv1): Conv2d(1, 4, kernel_size=(3, 3), stride=(1, 1), padding=(1, 1))\n",
       "    (conv2): Conv2d(4, 8, kernel_size=(3, 3), stride=(1, 1), padding=(1, 1))\n",
       "    (conv3): Conv2d(8, 16, kernel_size=(3, 3), stride=(1, 1), padding=(1, 1))\n",
       "    (conv4): Conv2d(16, 32, kernel_size=(3, 3), stride=(1, 1), padding=(1, 1))\n",
       "    (conv5): Conv2d(32, 32, kernel_size=(3, 3), stride=(1, 1), padding=(1, 1))\n",
       "    (conv6): Conv2d(32, 32, kernel_size=(3, 3), stride=(1, 1), padding=(1, 1))\n",
       "    (pool): MaxPool2d(kernel_size=2, stride=2, padding=0, dilation=1, ceil_mode=False)\n",
       "    (batch_norm): BatchNorm2d(32, eps=1e-05, momentum=0.1, affine=True, track_running_stats=True)\n",
       "  )\n",
       "  (attention_block): AttentionBlock(\n",
       "    (qkv): Linear(in_features=144, out_features=432, bias=False)\n",
       "    (out_proj): Linear(in_features=144, out_features=1, bias=True)\n",
       "  )\n",
       "  (experts): ModuleList(\n",
       "    (0-31): 32 x FCExpert(\n",
       "      (fc1): Linear(in_features=144, out_features=72, bias=True)\n",
       "      (fc2): Linear(in_features=72, out_features=36, bias=True)\n",
       "      (fc3): Linear(in_features=36, out_features=18, bias=True)\n",
       "      (fc4): Linear(in_features=18, out_features=9, bias=True)\n",
       "      (fc5): Linear(in_features=9, out_features=2, bias=True)\n",
       "    )\n",
       "  )\n",
       "  (wighted_sum): FinalExpert(\n",
       "    (fc1): Linear(in_features=64, out_features=32, bias=True)\n",
       "    (fc2): Linear(in_features=32, out_features=16, bias=True)\n",
       "    (fc3): Linear(in_features=16, out_features=2, bias=True)\n",
       "  )\n",
       ")"
      ]
     },
     "execution_count": 4,
     "metadata": {},
     "output_type": "execute_result"
    }
   ],
   "source": [
    "loaded_model = Prototype1(num_attention_heads=16)\n",
    "loaded_model.load_state_dict(torch.load(\"h2.pth\", map_location=torch.device('cpu')))\n",
    "loaded_model.to(\"cuda\")\n",
    "loaded_model.eval()"
   ]
  },
  {
   "cell_type": "markdown",
   "metadata": {},
   "source": [
    "# Testing"
   ]
  },
  {
   "cell_type": "code",
   "execution_count": 5,
   "metadata": {},
   "outputs": [],
   "source": [
    "def plot_barchartImage(image):\n",
    "    x = np.arange(image.shape[0])\n",
    "    y = np.arange(image.shape[1])\n",
    "    x, y = np.meshgrid(x, y)\n",
    "\n",
    "    # Flatten arrays for plotting\n",
    "    x = x.flatten()\n",
    "    y = y.flatten()\n",
    "    z = np.zeros_like(x)\n",
    "    dx = dy = np.ones_like(x)\n",
    "    dz = image.flatten()\n",
    "\n",
    "    # Plot the 3D bar chart\n",
    "    fig = plt.figure(figsize=(10, 8))\n",
    "    ax = fig.add_subplot(111, projection='3d')\n",
    "    ax.bar3d(x, y, z, dx, dy, dz, shade=True)\n",
    "\n",
    "    # Add labels and title\n",
    "    ax.set_xlabel('X')\n",
    "    ax.set_ylabel('Y')\n",
    "    ax.set_zlabel('Value')\n",
    "    ax.set_title('3D Bar Chart of (200, 200) Array')\n",
    "\n",
    "    plt.show()\n",
    "\n",
    "def use_model_to_cluster(model: nn.Module, image: torch.tensor):\n",
    "    best_parameters = model(image.to(\"cuda\"))\n",
    "    print(best_parameters)\n",
    "    sp = best_parameters[0][0]\n",
    "    if sp <= 1: sp = 1\n",
    "    sr = best_parameters[0][1]\n",
    "    if sr <= 1: sr = 1\n",
    "    return sp, sr\n",
    "\n",
    "def plot_how_the_model_is_watching_the_picture(model: nn.Module, dataset: NEUDataset):\n",
    "    image, label = dataset.__getitem__(index= random.randint(0, len(dataset)))\n",
    "    print(label)\n",
    "    original_image = Perspectiver.grayscale_to_rgb(Perspectiver.normalize_to_uint8(image.detach().cpu().numpy()[0]))\n",
    "    sp , sr = use_model_to_cluster(loaded_model, image)\n",
    "    clustered_image = Perspectiver.meanShift(original_image, float(sp), float(sr))\n",
    "    Perspectiver.plotComparison(imageBefore=original_image, imageAfter=clustered_image)"
   ]
  },
  {
   "cell_type": "code",
   "execution_count": 27,
   "metadata": {},
   "outputs": [
    {
     "name": "stdout",
     "output_type": "stream",
     "text": [
      "Dataset: test created!\n",
      "tensor([0, 0, 1, 0, 0, 0], dtype=torch.int8)\n",
      "tensor([[ 0.0000, 52.5183]], device='cuda:0', grad_fn=<ReluBackward0>)\n"
     ]
    },
    {
     "data": {
      "image/png": "[encoded data removed]",
      "text/plain": [
       "<Figure size 1200x600 with 2 Axes>"
      ]
     },
     "metadata": {},
     "output_type": "display_data"
    }
   ],
   "source": [
    "test_set = NEUDataset(set=\"test\", seed=55, scale=0.5, best_param=False)\n",
    "plot_how_the_model_is_watching_the_picture(loaded_model, test_set)"
   ]
  },
  {
   "cell_type": "markdown",
   "metadata": {},
   "source": [
    "# Using knowledge"
   ]
  },
  {
   "cell_type": "code",
   "execution_count": 13,
   "metadata": {},
   "outputs": [],
   "source": [
    "# Red neuronal simple con una capa oculta\n",
    "class Classifier(nn.Module):\n",
    "    def __init__(self):\n",
    "        super(Classifier, self).__init__()\n",
    "        self.fc1 = nn.Linear(2, 8)\n",
    "        self.relu = nn.ReLU()\n",
    "        self.fc2 = nn.Linear(8, 16)\n",
    "        self.fc3 = nn.Linear(16, 8)\n",
    "        self.fc4 = nn.Linear(8, 6)\n",
    "        self.sigmoid = nn.Sigmoid()\n",
    "\n",
    "    def forward(self, x):\n",
    "        x = self.fc1(x)\n",
    "        x = self.relu(x)\n",
    "        x = self.fc2(x)\n",
    "        x = self.relu(x)\n",
    "        x = self.fc3(x)\n",
    "        x = self.relu(x)\n",
    "        x = self.fc4(x)\n",
    "        #x = self.sigmoid(x)\n",
    "        return x"
   ]
  },
  {
   "cell_type": "code",
   "execution_count": 14,
   "metadata": {},
   "outputs": [],
   "source": [
    "LEARNING_RATE = 0.00005\n",
    "EPOCH = 1000\n",
    "BATCH_SIZE = len(dataset)//2\n",
    "THREADS = 8\n",
    "dataloader = DataLoader(dataset=dataset, batch_size=BATCH_SIZE, shuffle=True, num_workers=THREADS)"
   ]
  },
  {
   "cell_type": "code",
   "execution_count": 15,
   "metadata": {},
   "outputs": [],
   "source": [
    "def train(freezed_model, classifier, dataloader, criterion, optimizer):\n",
    "    loss_record = []\n",
    "    classifier.train()\n",
    "    freezed_model.eval()\n",
    "    for epoch in range(EPOCH):\n",
    "        total_loss = 0\n",
    "        num_batches = 0\n",
    "\n",
    "        # Desempaquetar ignorando 'labels'\n",
    "        for images, label, _ in dataloader:\n",
    "            images = images.to('cuda')\n",
    "            label = label[:, 0:6].float().to(device)\n",
    "            #print(label)\n",
    "            with torch.no_grad():\n",
    "                spsr = freezed_model(images)\n",
    "\n",
    "            # Forward: el modelo predice sp y sr\n",
    "            pred_reg = classifier(spsr)  # salida de regresión\n",
    "\n",
    "            loss = criterion(pred_reg, label)\n",
    "            total_loss += loss.item()\n",
    "\n",
    "            optimizer.zero_grad()\n",
    "            loss.backward()\n",
    "            optimizer.step()\n",
    "\n",
    "            num_batches += 1\n",
    "\n",
    "            # Opcional: imprimir para depurar\n",
    "            #print(\"Logits:\", pred_reg)\n",
    "            #print(\"Labels:\", label)\n",
    "            #print(\"Batch Loss:\", loss.item())\n",
    "\n",
    "        avg_loss = total_loss / num_batches\n",
    "        loss_record.append(avg_loss)\n",
    "        print(f\"Epoch [{epoch + 1}/{EPOCH}], Loss: {avg_loss:.4f}\")\n",
    "    return loss_record, classifier"
   ]
  },
  {
   "cell_type": "code",
   "execution_count": 16,
   "metadata": {},
   "outputs": [],
   "source": [
    "classifier = Classifier().to(\"cuda\")"
   ]
  },
  {
   "cell_type": "code",
   "execution_count": null,
   "metadata": {},
   "outputs": [],
   "source": [
    "loss, classifier = train(freezed_model=loaded_model,classifier=classifier, dataloader=dataloader, criterion=nn.CrossEntropyLoss(reduction=\"mean\"), optimizer=torch.optim.Adam(classifier.parameters(), lr=LEARNING_RATE))"
   ]
  },
  {
   "cell_type": "code",
   "execution_count": null,
   "metadata": {},
   "outputs": [],
   "source": [
    "plt.plot(loss)           \n",
    "plt.title(\"Line Chart\")  \n",
    "plt.xlabel(\"epoch\")     \n",
    "plt.ylabel(\"loss\")      \n",
    "plt.show()       "
   ]
  },
  {
   "cell_type": "markdown",
   "metadata": {},
   "source": [
    "# Testing classifier"
   ]
  },
  {
   "cell_type": "code",
   "execution_count": null,
   "metadata": {},
   "outputs": [],
   "source": [
    "def prediction(image):\n",
    "    return classifier(loaded_model(image))\n",
    "image, label = test_set.__getitem__(index= random.randint(0, len(test_set)))\n",
    "\n",
    "classifier(torch.argmax(loaded_model(image.to(\"cuda\")), dim=1))"
   ]
  }
 ],
 "metadata": {
  "kernelspec": {
   "display_name": "pytorch",
   "language": "python",
   "name": "python3"
  },
  "language_info": {
   "codemirror_mode": {
    "name": "ipython",
    "version": 3
   },
   "file_extension": ".py",
   "mimetype": "text/x-python",
   "name": "python",
   "nbconvert_exporter": "python",
   "pygments_lexer": "ipython3",
   "version": "3.12.3"
  }
 },
 "nbformat": 4,
 "nbformat_minor": 2
}
