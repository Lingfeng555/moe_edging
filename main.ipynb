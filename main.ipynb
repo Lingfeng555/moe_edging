{
 "cells": [
  {
   "cell_type": "code",
   "execution_count": 23,
   "metadata": {},
   "outputs": [],
   "source": [
    "import os\n",
    "from pathlib import Path\n",
    "from torch.utils.data import DataLoader, Dataset\n",
    "from torchvision import datasets, transforms\n",
    "import pandas as pd\n",
    "from PIL import Image"
   ]
  },
  {
   "cell_type": "code",
   "execution_count": 24,
   "metadata": {},
   "outputs": [],
   "source": [
    "class CXR8Dataset(Dataset):\n",
    "    def __init__(self, csv_path, image_dir, transform=None):\n",
    "        \"\"\"\n",
    "        Args:\n",
    "            csv_path (str): Path to the CSV file.\n",
    "            image_dir (str): Directory containing the images.\n",
    "            transform (callable, optional): Transform to apply to images.\n",
    "        \"\"\"\n",
    "        self.data = pd.read_csv(csv_path)\n",
    "        self.image_dir = image_dir\n",
    "        self.transform = transform\n",
    "\n",
    "        available_images = set(os.listdir(self.image_dir))  # List of files in the directory\n",
    "        self.data = self.data[self.data['id'].isin(available_images)]\n",
    "\n",
    "        self.labels = self.data.drop(columns=['id', 'subject_id']).values  # Extract labels\n",
    "\n",
    "    def __len__(self):\n",
    "        return len(self.data)\n",
    "\n",
    "    def __getitem__(self, idx):\n",
    "        # Get image ID and construct its full path\n",
    "        img_id = self.data.iloc[idx]['id']\n",
    "        img_path = os.path.join(self.image_dir, img_id)\n",
    "\n",
    "        # Load the image\n",
    "        image = Image.open(img_path).convert(\"RGB\")\n",
    "\n",
    "        # Apply transformations if provided\n",
    "        if self.transform:\n",
    "            image = self.transform(image)\n",
    "\n",
    "        # Get the corresponding labels\n",
    "        label = self.labels[idx]\n",
    "        \n",
    "        return image, label"
   ]
  },
  {
   "cell_type": "code",
   "execution_count": 32,
   "metadata": {},
   "outputs": [],
   "source": [
    "csv_path = os.path.expanduser(\"~/datasets/CXR8/LongTailCXR/nih-cxr-lt_single-label_train.csv\")\n",
    "image_dir = os.path.expanduser(\"~/datasets/CXR8/images/images_001/images/\")\n",
    "batch_size = 32\n",
    "image_scale = (224, 224)"
   ]
  },
  {
   "cell_type": "code",
   "execution_count": 33,
   "metadata": {},
   "outputs": [],
   "source": [
    "transform = transforms.Compose([\n",
    "    transforms.Grayscale(num_output_channels=1),  # Convert image to grayscale (1 channel)\n",
    "    transforms.Resize(image_scale),               # Resize images to a uniform size\n",
    "    transforms.ToTensor(),                       # Convert images to PyTorch tensors\n",
    "    transforms.Normalize(mean=[0.5], std=[0.5])  # Normalize for grayscale (mean and std for a single channel)\n",
    "])"
   ]
  },
  {
   "cell_type": "code",
   "execution_count": 34,
   "metadata": {},
   "outputs": [],
   "source": [
    "# Load dataset\n",
    "dataset = CXR8Dataset(csv_path=csv_path, image_dir=image_dir, transform=transform)\n",
    "data_loader = DataLoader(dataset, batch_size=batch_size, shuffle=True, num_workers=4, pin_memory=True)\n"
   ]
  },
  {
   "cell_type": "code",
   "execution_count": 35,
   "metadata": {},
   "outputs": [
    {
     "name": "stdout",
     "output_type": "stream",
     "text": [
      "Number of images in the filtered dataset: 2895\n",
      "Batch of images: torch.Size([32, 1, 224, 224])\n",
      "Batch of labels: torch.Size([32, 20])\n"
     ]
    }
   ],
   "source": [
    "print(f\"Number of images in the filtered dataset: {len(dataset)}\")\n",
    "\n",
    "# Test the DataLoader\n",
    "for images, labels in data_loader:\n",
    "    print(f\"Batch of images: {images.shape}\")\n",
    "    print(f\"Batch of labels: {labels.shape}\")\n",
    "    break"
   ]
  }
 ],
 "metadata": {
  "kernelspec": {
   "display_name": "pytorch",
   "language": "python",
   "name": "python3"
  },
  "language_info": {
   "codemirror_mode": {
    "name": "ipython",
    "version": 3
   },
   "file_extension": ".py",
   "mimetype": "text/x-python",
   "name": "python",
   "nbconvert_exporter": "python",
   "pygments_lexer": "ipython3",
   "version": "3.12.3"
  }
 },
 "nbformat": 4,
 "nbformat_minor": 2
}
